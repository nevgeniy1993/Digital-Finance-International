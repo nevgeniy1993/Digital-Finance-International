{
 "cells": [
  {
   "cell_type": "markdown",
   "id": "0687fd93",
   "metadata": {
    "toc": true
   },
   "source": [
    "<h1>Table of Contents<span class=\"tocSkip\"></span></h1>\n",
    "<div class=\"toc\"><ul class=\"toc-item\"></ul></div>"
   ]
  },
  {
   "cell_type": "code",
   "execution_count": 1218,
   "id": "f2b8b291",
   "metadata": {},
   "outputs": [],
   "source": [
    "import pandas as pd\n",
    "import numpy as np\n",
    "from sklearn import preprocessing\n",
    "import matplotlib.pyplot as plt \n",
    "plt.rc(\"font\", size=14)\n",
    "from sklearn.linear_model import LogisticRegression\n",
    "from sklearn.model_selection import train_test_split\n"
   ]
  },
  {
   "cell_type": "code",
   "execution_count": 1219,
   "id": "a16132ec",
   "metadata": {},
   "outputs": [
    {
     "data": {
      "text/html": [
       "<div>\n",
       "<style scoped>\n",
       "    .dataframe tbody tr th:only-of-type {\n",
       "        vertical-align: middle;\n",
       "    }\n",
       "\n",
       "    .dataframe tbody tr th {\n",
       "        vertical-align: top;\n",
       "    }\n",
       "\n",
       "    .dataframe thead th {\n",
       "        text-align: right;\n",
       "    }\n",
       "</style>\n",
       "<table border=\"1\" class=\"dataframe\">\n",
       "  <thead>\n",
       "    <tr style=\"text-align: right;\">\n",
       "      <th></th>\n",
       "      <th>fpd5_flg</th>\n",
       "      <th>gender</th>\n",
       "      <th>device_quaility_index</th>\n",
       "      <th>behavioral_index</th>\n",
       "      <th>type_of_document</th>\n",
       "      <th>age</th>\n",
       "      <th>email_domain_formatted</th>\n",
       "      <th>social_status</th>\n",
       "      <th>salary</th>\n",
       "      <th>disbursment_type</th>\n",
       "      <th>os</th>\n",
       "      <th>email_index</th>\n",
       "    </tr>\n",
       "  </thead>\n",
       "  <tbody>\n",
       "    <tr>\n",
       "      <th>1</th>\n",
       "      <td>0</td>\n",
       "      <td>1</td>\n",
       "      <td>3.0</td>\n",
       "      <td>4.0</td>\n",
       "      <td>UMID</td>\n",
       "      <td>32</td>\n",
       "      <td>GMAIL.COM</td>\n",
       "      <td>Other</td>\n",
       "      <td>18000.0</td>\n",
       "      <td>E-wallet</td>\n",
       "      <td>Android</td>\n",
       "      <td>1.0</td>\n",
       "    </tr>\n",
       "    <tr>\n",
       "      <th>2</th>\n",
       "      <td>1</td>\n",
       "      <td>0</td>\n",
       "      <td>0.0</td>\n",
       "      <td>3.0</td>\n",
       "      <td>SSS</td>\n",
       "      <td>41</td>\n",
       "      <td>YAHOO.COM</td>\n",
       "      <td>Private Company Employee</td>\n",
       "      <td>14000.0</td>\n",
       "      <td>Bank</td>\n",
       "      <td>Android</td>\n",
       "      <td>1.0</td>\n",
       "    </tr>\n",
       "    <tr>\n",
       "      <th>3</th>\n",
       "      <td>1</td>\n",
       "      <td>1</td>\n",
       "      <td>0.0</td>\n",
       "      <td>5.0</td>\n",
       "      <td>TIN</td>\n",
       "      <td>28</td>\n",
       "      <td>GMAIL.COM</td>\n",
       "      <td>BPO Professionals</td>\n",
       "      <td>40000.0</td>\n",
       "      <td>E-wallet</td>\n",
       "      <td>Android</td>\n",
       "      <td>1.0</td>\n",
       "    </tr>\n",
       "    <tr>\n",
       "      <th>4</th>\n",
       "      <td>1</td>\n",
       "      <td>0</td>\n",
       "      <td>3.0</td>\n",
       "      <td>3.0</td>\n",
       "      <td>UMID</td>\n",
       "      <td>31</td>\n",
       "      <td>GMAIL.COM</td>\n",
       "      <td>BPO Professionals</td>\n",
       "      <td>25000.0</td>\n",
       "      <td>Bank</td>\n",
       "      <td>Android</td>\n",
       "      <td>0.0</td>\n",
       "    </tr>\n",
       "    <tr>\n",
       "      <th>5</th>\n",
       "      <td>0</td>\n",
       "      <td>1</td>\n",
       "      <td>3.0</td>\n",
       "      <td>5.0</td>\n",
       "      <td>TIN</td>\n",
       "      <td>28</td>\n",
       "      <td>GMAIL.COM</td>\n",
       "      <td>Other</td>\n",
       "      <td>30000.0</td>\n",
       "      <td>Bank</td>\n",
       "      <td>iOS</td>\n",
       "      <td>1.0</td>\n",
       "    </tr>\n",
       "    <tr>\n",
       "      <th>...</th>\n",
       "      <td>...</td>\n",
       "      <td>...</td>\n",
       "      <td>...</td>\n",
       "      <td>...</td>\n",
       "      <td>...</td>\n",
       "      <td>...</td>\n",
       "      <td>...</td>\n",
       "      <td>...</td>\n",
       "      <td>...</td>\n",
       "      <td>...</td>\n",
       "      <td>...</td>\n",
       "      <td>...</td>\n",
       "    </tr>\n",
       "    <tr>\n",
       "      <th>15358</th>\n",
       "      <td>0</td>\n",
       "      <td>1</td>\n",
       "      <td>3.0</td>\n",
       "      <td>5.0</td>\n",
       "      <td>UMID</td>\n",
       "      <td>36</td>\n",
       "      <td>GMAIL.COM</td>\n",
       "      <td>Business Owner</td>\n",
       "      <td>25000.0</td>\n",
       "      <td>E-wallet</td>\n",
       "      <td>Android</td>\n",
       "      <td>6.0</td>\n",
       "    </tr>\n",
       "    <tr>\n",
       "      <th>15359</th>\n",
       "      <td>1</td>\n",
       "      <td>1</td>\n",
       "      <td>0.0</td>\n",
       "      <td>3.0</td>\n",
       "      <td>Passport</td>\n",
       "      <td>32</td>\n",
       "      <td>GMAIL.COM</td>\n",
       "      <td>Self-Employed</td>\n",
       "      <td>25000.0</td>\n",
       "      <td>E-wallet</td>\n",
       "      <td>Android</td>\n",
       "      <td>1.0</td>\n",
       "    </tr>\n",
       "    <tr>\n",
       "      <th>15360</th>\n",
       "      <td>1</td>\n",
       "      <td>1</td>\n",
       "      <td>1.0</td>\n",
       "      <td>5.0</td>\n",
       "      <td>UMID</td>\n",
       "      <td>29</td>\n",
       "      <td>GMAIL.COM</td>\n",
       "      <td>Private Company Employee</td>\n",
       "      <td>25000.0</td>\n",
       "      <td>E-wallet</td>\n",
       "      <td>Android</td>\n",
       "      <td>0.0</td>\n",
       "    </tr>\n",
       "    <tr>\n",
       "      <th>15361</th>\n",
       "      <td>0</td>\n",
       "      <td>1</td>\n",
       "      <td>1.0</td>\n",
       "      <td>5.0</td>\n",
       "      <td>UMID</td>\n",
       "      <td>37</td>\n",
       "      <td>GMAIL.COM</td>\n",
       "      <td>Private Company Employee</td>\n",
       "      <td>25000.0</td>\n",
       "      <td>Bank</td>\n",
       "      <td>Android</td>\n",
       "      <td>6.0</td>\n",
       "    </tr>\n",
       "    <tr>\n",
       "      <th>15362</th>\n",
       "      <td>0</td>\n",
       "      <td>1</td>\n",
       "      <td>3.0</td>\n",
       "      <td>4.0</td>\n",
       "      <td>SSS</td>\n",
       "      <td>41</td>\n",
       "      <td>GMAIL.COM</td>\n",
       "      <td>Private Company Employee</td>\n",
       "      <td>35000.0</td>\n",
       "      <td>Bank</td>\n",
       "      <td>Android</td>\n",
       "      <td>0.0</td>\n",
       "    </tr>\n",
       "  </tbody>\n",
       "</table>\n",
       "<p>14073 rows × 12 columns</p>\n",
       "</div>"
      ],
      "text/plain": [
       "       fpd5_flg  gender  device_quaility_index  behavioral_index  \\\n",
       "1             0       1                    3.0               4.0   \n",
       "2             1       0                    0.0               3.0   \n",
       "3             1       1                    0.0               5.0   \n",
       "4             1       0                    3.0               3.0   \n",
       "5             0       1                    3.0               5.0   \n",
       "...         ...     ...                    ...               ...   \n",
       "15358         0       1                    3.0               5.0   \n",
       "15359         1       1                    0.0               3.0   \n",
       "15360         1       1                    1.0               5.0   \n",
       "15361         0       1                    1.0               5.0   \n",
       "15362         0       1                    3.0               4.0   \n",
       "\n",
       "      type_of_document  age email_domain_formatted             social_status  \\\n",
       "1                 UMID   32              GMAIL.COM                     Other   \n",
       "2                  SSS   41              YAHOO.COM  Private Company Employee   \n",
       "3                  TIN   28              GMAIL.COM         BPO Professionals   \n",
       "4                 UMID   31              GMAIL.COM         BPO Professionals   \n",
       "5                  TIN   28              GMAIL.COM                     Other   \n",
       "...                ...  ...                    ...                       ...   \n",
       "15358             UMID   36              GMAIL.COM            Business Owner   \n",
       "15359         Passport   32              GMAIL.COM             Self-Employed   \n",
       "15360             UMID   29              GMAIL.COM  Private Company Employee   \n",
       "15361             UMID   37              GMAIL.COM  Private Company Employee   \n",
       "15362              SSS   41              GMAIL.COM  Private Company Employee   \n",
       "\n",
       "        salary disbursment_type       os  email_index  \n",
       "1      18000.0         E-wallet  Android          1.0  \n",
       "2      14000.0             Bank  Android          1.0  \n",
       "3      40000.0         E-wallet  Android          1.0  \n",
       "4      25000.0             Bank  Android          0.0  \n",
       "5      30000.0             Bank      iOS          1.0  \n",
       "...        ...              ...      ...          ...  \n",
       "15358  25000.0         E-wallet  Android          6.0  \n",
       "15359  25000.0         E-wallet  Android          1.0  \n",
       "15360  25000.0         E-wallet  Android          0.0  \n",
       "15361  25000.0             Bank  Android          6.0  \n",
       "15362  35000.0             Bank  Android          0.0  \n",
       "\n",
       "[14073 rows x 12 columns]"
      ]
     },
     "execution_count": 1219,
     "metadata": {},
     "output_type": "execute_result"
    }
   ],
   "source": [
    "#загружаем данные, очищаем от неполных строк\n",
    "data = pd.read_excel('Test.xlsx', header = 0)\n",
    "#очищаем от нулевых значений\n",
    "data = data.dropna()\n",
    "#Убираем столбец даты\n",
    "data = data.drop('dt', axis=1)\n",
    "data"
   ]
  },
  {
   "cell_type": "code",
   "execution_count": 1220,
   "id": "86ed3dc6",
   "metadata": {},
   "outputs": [
    {
     "name": "stdout",
     "output_type": "stream",
     "text": [
      "<class 'pandas.core.frame.DataFrame'>\n",
      "Int64Index: 14073 entries, 1 to 15362\n",
      "Data columns (total 12 columns):\n",
      " #   Column                  Non-Null Count  Dtype  \n",
      "---  ------                  --------------  -----  \n",
      " 0   fpd5_flg                14073 non-null  int64  \n",
      " 1   gender                  14073 non-null  int64  \n",
      " 2   device_quaility_index   14073 non-null  float64\n",
      " 3   behavioral_index        14073 non-null  float64\n",
      " 4   type_of_document        14073 non-null  object \n",
      " 5   age                     14073 non-null  int64  \n",
      " 6   email_domain_formatted  14073 non-null  object \n",
      " 7   social_status           14073 non-null  object \n",
      " 8   salary                  14073 non-null  float64\n",
      " 9   disbursment_type        14073 non-null  object \n",
      " 10  os                      14073 non-null  object \n",
      " 11  email_index             14073 non-null  float64\n",
      "dtypes: float64(4), int64(3), object(5)\n",
      "memory usage: 1.4+ MB\n"
     ]
    }
   ],
   "source": [
    "#Проверка форматов\n",
    "data.info()"
   ]
  },
  {
   "cell_type": "code",
   "execution_count": 1221,
   "id": "a98281dc",
   "metadata": {},
   "outputs": [
    {
     "name": "stdout",
     "output_type": "stream",
     "text": [
      "1540     1500020000\n",
      "8811        2387700\n",
      "5082         900000\n",
      "6826         800000\n",
      "13821        780000\n",
      "5684         550000\n",
      "4527         508000\n",
      "5949         480009\n",
      "12650        450000\n",
      "8313         450000\n",
      "3421         400000\n",
      "6781         380000\n",
      "13017        370000\n",
      "9477         350000\n",
      "258          340000\n",
      "1217         300000\n",
      "6588         300000\n",
      "3853         300000\n",
      "13849        300000\n",
      "4272         300000\n",
      "Name: salary, dtype: int32\n",
      "7351     69\n",
      "7799     68\n",
      "8874     68\n",
      "8886     68\n",
      "3556     68\n",
      "         ..\n",
      "1655     21\n",
      "8791     21\n",
      "7393     21\n",
      "14238    21\n",
      "4116     21\n",
      "Name: age, Length: 14073, dtype: int32\n",
      "[1 0]\n",
      "[3. 0. 2. 4. 1.]\n",
      "[4. 3. 5. 2. 6. 1.]\n",
      "[ 1.  0.  8.  4.  6. 10.  2.  3. 12. 11.]\n"
     ]
    }
   ],
   "source": [
    "#порверка на выпадающие значения\n",
    "print(data.sort_values('salary', ascending=False)['salary'].astype(int).head(20))\n",
    "print(data.sort_values('age', ascending=False)['age'].astype(int))\n",
    "print(data['gender'].unique())\n",
    "print(data['device_quaility_index'].unique())\n",
    "print(data['behavioral_index'].unique())\n",
    "print(data['email_index'].unique())"
   ]
  },
  {
   "cell_type": "code",
   "execution_count": 1222,
   "id": "9de9c993",
   "metadata": {},
   "outputs": [],
   "source": [
    "#Убираем людей с чрезвычайно высокой ЗП\n",
    "data=data.drop([1540, 8811, 5082, 13821, 6826])"
   ]
  },
  {
   "cell_type": "code",
   "execution_count": 1223,
   "id": "11e21a83",
   "metadata": {},
   "outputs": [
    {
     "data": {
      "image/png": "[encoded data removed]",
      "text/plain": [
       "<Figure size 432x288 with 1 Axes>"
      ]
     },
     "metadata": {},
     "output_type": "display_data"
    },
    {
     "data": {
      "text/plain": [
       "<Figure size 432x288 with 0 Axes>"
      ]
     },
     "metadata": {},
     "output_type": "display_data"
    }
   ],
   "source": [
    "#Данные по результатам не сбалансированные\n",
    "sns.countplot(x='fpd5_flg', data=data, palette='hls')\n",
    "plt.show()\n",
    "plt.savefig('count_plot')"
   ]
  },
  {
   "cell_type": "code",
   "execution_count": 1224,
   "id": "9fe81787",
   "metadata": {},
   "outputs": [
    {
     "name": "stdout",
     "output_type": "stream",
     "text": [
      "Процент без дефолта 72.80352573215809\n",
      "Процент дефолта 27.196474267841907\n"
     ]
    }
   ],
   "source": [
    "count_false = len(data[data['fpd5_flg']==0])\n",
    "count_true = len(data[data['fpd5_flg']==1])\n",
    "pct_of_false = count_false/(count_false+count_true)\n",
    "print(\"Процент без дефолта\", pct_of_false*100)\n",
    "pct_of_true = count_true/(count_false+count_true)\n",
    "print(\"Процент дефолта\", pct_of_true*100)"
   ]
  },
  {
   "cell_type": "code",
   "execution_count": 1226,
   "id": "d7c64110",
   "metadata": {},
   "outputs": [
    {
     "data": {
      "text/html": [
       "<div>\n",
       "<style scoped>\n",
       "    .dataframe tbody tr th:only-of-type {\n",
       "        vertical-align: middle;\n",
       "    }\n",
       "\n",
       "    .dataframe tbody tr th {\n",
       "        vertical-align: top;\n",
       "    }\n",
       "\n",
       "    .dataframe thead th {\n",
       "        text-align: right;\n",
       "    }\n",
       "</style>\n",
       "<table border=\"1\" class=\"dataframe\">\n",
       "  <thead>\n",
       "    <tr style=\"text-align: right;\">\n",
       "      <th></th>\n",
       "      <th>gender</th>\n",
       "      <th>device_quaility_index</th>\n",
       "      <th>behavioral_index</th>\n",
       "      <th>age</th>\n",
       "      <th>salary</th>\n",
       "      <th>email_index</th>\n",
       "    </tr>\n",
       "    <tr>\n",
       "      <th>fpd5_flg</th>\n",
       "      <th></th>\n",
       "      <th></th>\n",
       "      <th></th>\n",
       "      <th></th>\n",
       "      <th></th>\n",
       "      <th></th>\n",
       "    </tr>\n",
       "  </thead>\n",
       "  <tbody>\n",
       "    <tr>\n",
       "      <th>0</th>\n",
       "      <td>0.642746</td>\n",
       "      <td>2.423257</td>\n",
       "      <td>4.029389</td>\n",
       "      <td>35.354423</td>\n",
       "      <td>24295.642746</td>\n",
       "      <td>1.489260</td>\n",
       "    </tr>\n",
       "    <tr>\n",
       "      <th>1</th>\n",
       "      <td>0.582593</td>\n",
       "      <td>2.276006</td>\n",
       "      <td>4.110821</td>\n",
       "      <td>34.271040</td>\n",
       "      <td>21658.916100</td>\n",
       "      <td>1.668583</td>\n",
       "    </tr>\n",
       "  </tbody>\n",
       "</table>\n",
       "</div>"
      ],
      "text/plain": [
       "            gender  device_quaility_index  behavioral_index        age  \\\n",
       "fpd5_flg                                                                 \n",
       "0         0.642746               2.423257          4.029389  35.354423   \n",
       "1         0.582593               2.276006          4.110821  34.271040   \n",
       "\n",
       "                salary  email_index  \n",
       "fpd5_flg                             \n",
       "0         24295.642746     1.489260  \n",
       "1         21658.916100     1.668583  "
      ]
     },
     "execution_count": 1226,
     "metadata": {},
     "output_type": "execute_result"
    }
   ],
   "source": [
    "# Проверяем, имеет ли влияние на дефолт показатели числовых факторов\n",
    "data.groupby('fpd5_flg').mean()\n",
    "\n",
    "# Из результата можно судить, что все показатели в той или иной степени могут влиять на показатель вероятности дефолта, хотя какого-то очевидно наглядного влияние не видно."
   ]
  },
  {
   "cell_type": "code",
   "execution_count": 1227,
   "id": "363ed3e5",
   "metadata": {},
   "outputs": [
    {
     "data": {
      "image/png": "[encoded data removed]",
      "text/plain": [
       "<Figure size 432x288 with 1 Axes>"
      ]
     },
     "metadata": {},
     "output_type": "display_data"
    }
   ],
   "source": [
    "table=pd.crosstab(data.gender,data.fpd5_flg)\n",
    "table.div(table.sum(1).astype(float), axis=0).plot(kind='bar', stacked=True)\n",
    "plt.title('Зависимость дефолта от гендера')\n",
    "plt.xlabel('Гендер')\n",
    "plt.ylabel('Разделение по объему дефолтов')\n",
    "plt.savefig('mariral_vs_pur_stack')"
   ]
  },
  {
   "cell_type": "code",
   "execution_count": 1228,
   "id": "4f1a89f3",
   "metadata": {},
   "outputs": [
    {
     "data": {
      "text/html": [
       "<div>\n",
       "<style scoped>\n",
       "    .dataframe tbody tr th:only-of-type {\n",
       "        vertical-align: middle;\n",
       "    }\n",
       "\n",
       "    .dataframe tbody tr th {\n",
       "        vertical-align: top;\n",
       "    }\n",
       "\n",
       "    .dataframe thead th {\n",
       "        text-align: right;\n",
       "    }\n",
       "</style>\n",
       "<table border=\"1\" class=\"dataframe\">\n",
       "  <thead>\n",
       "    <tr style=\"text-align: right;\">\n",
       "      <th></th>\n",
       "      <th>fpd5_flg</th>\n",
       "      <th>gender</th>\n",
       "      <th>device_quaility_index</th>\n",
       "      <th>behavioral_index</th>\n",
       "      <th>age</th>\n",
       "      <th>salary</th>\n",
       "      <th>email_index</th>\n",
       "    </tr>\n",
       "    <tr>\n",
       "      <th>type_of_document</th>\n",
       "      <th></th>\n",
       "      <th></th>\n",
       "      <th></th>\n",
       "      <th></th>\n",
       "      <th></th>\n",
       "      <th></th>\n",
       "      <th></th>\n",
       "    </tr>\n",
       "  </thead>\n",
       "  <tbody>\n",
       "    <tr>\n",
       "      <th>Driver license ID</th>\n",
       "      <td>0.278996</td>\n",
       "      <td>0.315064</td>\n",
       "      <td>2.513083</td>\n",
       "      <td>4.081330</td>\n",
       "      <td>35.413366</td>\n",
       "      <td>26139.791726</td>\n",
       "      <td>1.513437</td>\n",
       "    </tr>\n",
       "    <tr>\n",
       "      <th>PRC</th>\n",
       "      <td>0.189696</td>\n",
       "      <td>0.676815</td>\n",
       "      <td>2.510539</td>\n",
       "      <td>4.000000</td>\n",
       "      <td>31.918033</td>\n",
       "      <td>24630.929742</td>\n",
       "      <td>1.451991</td>\n",
       "    </tr>\n",
       "    <tr>\n",
       "      <th>Passport</th>\n",
       "      <td>0.268595</td>\n",
       "      <td>0.674734</td>\n",
       "      <td>2.525974</td>\n",
       "      <td>4.083825</td>\n",
       "      <td>33.926800</td>\n",
       "      <td>25298.095041</td>\n",
       "      <td>1.319362</td>\n",
       "    </tr>\n",
       "    <tr>\n",
       "      <th>SSS</th>\n",
       "      <td>0.238586</td>\n",
       "      <td>0.667894</td>\n",
       "      <td>2.081001</td>\n",
       "      <td>4.013255</td>\n",
       "      <td>41.428571</td>\n",
       "      <td>23051.517673</td>\n",
       "      <td>1.868925</td>\n",
       "    </tr>\n",
       "    <tr>\n",
       "      <th>TIN</th>\n",
       "      <td>0.306358</td>\n",
       "      <td>0.756142</td>\n",
       "      <td>2.320809</td>\n",
       "      <td>4.046243</td>\n",
       "      <td>35.103324</td>\n",
       "      <td>22071.361994</td>\n",
       "      <td>1.466040</td>\n",
       "    </tr>\n",
       "    <tr>\n",
       "      <th>UMID</th>\n",
       "      <td>0.266173</td>\n",
       "      <td>0.698778</td>\n",
       "      <td>2.367114</td>\n",
       "      <td>4.041458</td>\n",
       "      <td>33.756259</td>\n",
       "      <td>22433.363509</td>\n",
       "      <td>1.583417</td>\n",
       "    </tr>\n",
       "  </tbody>\n",
       "</table>\n",
       "</div>"
      ],
      "text/plain": [
       "                   fpd5_flg    gender  device_quaility_index  \\\n",
       "type_of_document                                               \n",
       "Driver license ID  0.278996  0.315064               2.513083   \n",
       "PRC                0.189696  0.676815               2.510539   \n",
       "Passport           0.268595  0.674734               2.525974   \n",
       "SSS                0.238586  0.667894               2.081001   \n",
       "TIN                0.306358  0.756142               2.320809   \n",
       "UMID               0.266173  0.698778               2.367114   \n",
       "\n",
       "                   behavioral_index        age        salary  email_index  \n",
       "type_of_document                                                           \n",
       "Driver license ID          4.081330  35.413366  26139.791726     1.513437  \n",
       "PRC                        4.000000  31.918033  24630.929742     1.451991  \n",
       "Passport                   4.083825  33.926800  25298.095041     1.319362  \n",
       "SSS                        4.013255  41.428571  23051.517673     1.868925  \n",
       "TIN                        4.046243  35.103324  22071.361994     1.466040  \n",
       "UMID                       4.041458  33.756259  22433.363509     1.583417  "
      ]
     },
     "execution_count": 1228,
     "metadata": {},
     "output_type": "execute_result"
    }
   ],
   "source": [
    "data.groupby('type_of_document').mean()\n",
    "#можно наблюдать, что хоть разница и не велика, но все же определенная зависимость между предоставляемым документом и дефолтом есть. Проверим связано ли это долей и частотой предоставления того или иного документа.\n",
    "#Можно предположить, что наличие того или иного документа так же отражает статус Клиента, его национальность и особенности его финансового поведения (так, например, человек с правами имеет автомобиль, что сильно влияет на его финансовое поведение)\n",
    "# так что данный фактор нужно оставить"
   ]
  },
  {
   "cell_type": "code",
   "execution_count": 1229,
   "id": "506db97f",
   "metadata": {},
   "outputs": [
    {
     "data": {
      "text/plain": [
       "UMID                 0.354919\n",
       "Driver license ID    0.201024\n",
       "TIN                  0.196759\n",
       "Passport             0.120415\n",
       "SSS                  0.096531\n",
       "PRC                  0.030353\n",
       "Name: type_of_document, dtype: float64"
      ]
     },
     "execution_count": 1229,
     "metadata": {},
     "output_type": "execute_result"
    }
   ],
   "source": [
    "#видим, что с частотой это не связано, т.к. UMID предоставляется в 2 раза чаще Пасспорта, но доля дефолта у обоих почти ровна.\n",
    "data['type_of_document'].value_counts(normalize=True)"
   ]
  },
  {
   "cell_type": "code",
   "execution_count": 1230,
   "id": "5fb248c7",
   "metadata": {},
   "outputs": [
    {
     "data": {
      "image/png": "[encoded data removed]",
      "text/plain": [
       "<Figure size 432x288 with 1 Axes>"
      ]
     },
     "metadata": {},
     "output_type": "display_data"
    }
   ],
   "source": [
    "table=pd.crosstab(data.type_of_document,data.fpd5_flg)\n",
    "table.div(table.sum(1).astype(float), axis=0).plot(kind='bar', stacked=True)\n",
    "plt.title('Зависимость дефолта от ОС')\n",
    "plt.xlabel('Операционная система')\n",
    "plt.ylabel('Разделение по объему дефолтов')\n",
    "plt.savefig('mariral_vs_pur_stack')\n",
    "# данные +- равны. Однако корреляция все равно, теоретически, может быть. Нужно оставить."
   ]
  },
  {
   "cell_type": "code",
   "execution_count": 1231,
   "id": "b17f4156",
   "metadata": {},
   "outputs": [
    {
     "data": {
      "text/html": [
       "<div>\n",
       "<style scoped>\n",
       "    .dataframe tbody tr th:only-of-type {\n",
       "        vertical-align: middle;\n",
       "    }\n",
       "\n",
       "    .dataframe tbody tr th {\n",
       "        vertical-align: top;\n",
       "    }\n",
       "\n",
       "    .dataframe thead th {\n",
       "        text-align: right;\n",
       "    }\n",
       "</style>\n",
       "<table border=\"1\" class=\"dataframe\">\n",
       "  <thead>\n",
       "    <tr style=\"text-align: right;\">\n",
       "      <th></th>\n",
       "      <th>fpd5_flg</th>\n",
       "      <th>gender</th>\n",
       "      <th>device_quaility_index</th>\n",
       "      <th>behavioral_index</th>\n",
       "      <th>age</th>\n",
       "      <th>salary</th>\n",
       "      <th>email_index</th>\n",
       "    </tr>\n",
       "    <tr>\n",
       "      <th>social_status</th>\n",
       "      <th></th>\n",
       "      <th></th>\n",
       "      <th></th>\n",
       "      <th></th>\n",
       "      <th></th>\n",
       "      <th></th>\n",
       "      <th></th>\n",
       "    </tr>\n",
       "  </thead>\n",
       "  <tbody>\n",
       "    <tr>\n",
       "      <th>Financial Services</th>\n",
       "      <td>0.181070</td>\n",
       "      <td>0.600823</td>\n",
       "      <td>2.748971</td>\n",
       "      <td>4.032922</td>\n",
       "      <td>32.432099</td>\n",
       "      <td>27162.604938</td>\n",
       "      <td>1.333333</td>\n",
       "    </tr>\n",
       "    <tr>\n",
       "      <th>Professional Worker (Doctors, Engineers, Accountants, etc.)</th>\n",
       "      <td>0.195200</td>\n",
       "      <td>0.609600</td>\n",
       "      <td>2.662400</td>\n",
       "      <td>3.974400</td>\n",
       "      <td>34.912000</td>\n",
       "      <td>29358.152000</td>\n",
       "      <td>1.318400</td>\n",
       "    </tr>\n",
       "    <tr>\n",
       "      <th>Government Employee</th>\n",
       "      <td>0.255382</td>\n",
       "      <td>0.668297</td>\n",
       "      <td>2.387476</td>\n",
       "      <td>4.036204</td>\n",
       "      <td>37.028376</td>\n",
       "      <td>21852.585127</td>\n",
       "      <td>1.727984</td>\n",
       "    </tr>\n",
       "    <tr>\n",
       "      <th>Private Company Employee</th>\n",
       "      <td>0.262315</td>\n",
       "      <td>0.548961</td>\n",
       "      <td>2.423145</td>\n",
       "      <td>4.043323</td>\n",
       "      <td>34.038279</td>\n",
       "      <td>22659.785757</td>\n",
       "      <td>1.517507</td>\n",
       "    </tr>\n",
       "    <tr>\n",
       "      <th>Other</th>\n",
       "      <td>0.273854</td>\n",
       "      <td>0.610905</td>\n",
       "      <td>2.208798</td>\n",
       "      <td>4.053903</td>\n",
       "      <td>35.852540</td>\n",
       "      <td>21139.529740</td>\n",
       "      <td>1.791822</td>\n",
       "    </tr>\n",
       "    <tr>\n",
       "      <th>BPO Professionals</th>\n",
       "      <td>0.275629</td>\n",
       "      <td>0.614209</td>\n",
       "      <td>2.649730</td>\n",
       "      <td>4.023831</td>\n",
       "      <td>30.925360</td>\n",
       "      <td>24415.154676</td>\n",
       "      <td>1.090378</td>\n",
       "    </tr>\n",
       "    <tr>\n",
       "      <th>Freelance</th>\n",
       "      <td>0.278378</td>\n",
       "      <td>0.570270</td>\n",
       "      <td>2.325676</td>\n",
       "      <td>4.021622</td>\n",
       "      <td>36.678378</td>\n",
       "      <td>21518.297297</td>\n",
       "      <td>1.354054</td>\n",
       "    </tr>\n",
       "    <tr>\n",
       "      <th>Business Owner</th>\n",
       "      <td>0.285891</td>\n",
       "      <td>0.721535</td>\n",
       "      <td>2.338490</td>\n",
       "      <td>4.077351</td>\n",
       "      <td>37.969678</td>\n",
       "      <td>31434.625619</td>\n",
       "      <td>1.748144</td>\n",
       "    </tr>\n",
       "    <tr>\n",
       "      <th>Self-Employed</th>\n",
       "      <td>0.301580</td>\n",
       "      <td>0.687133</td>\n",
       "      <td>2.141309</td>\n",
       "      <td>4.102032</td>\n",
       "      <td>37.088939</td>\n",
       "      <td>20729.974266</td>\n",
       "      <td>1.688488</td>\n",
       "    </tr>\n",
       "    <tr>\n",
       "      <th>Retail Worker</th>\n",
       "      <td>0.303430</td>\n",
       "      <td>0.725594</td>\n",
       "      <td>2.234828</td>\n",
       "      <td>4.094987</td>\n",
       "      <td>34.192612</td>\n",
       "      <td>17910.052770</td>\n",
       "      <td>1.810026</td>\n",
       "    </tr>\n",
       "    <tr>\n",
       "      <th>Unemployed</th>\n",
       "      <td>0.450000</td>\n",
       "      <td>0.750000</td>\n",
       "      <td>2.050000</td>\n",
       "      <td>4.350000</td>\n",
       "      <td>35.600000</td>\n",
       "      <td>10580.250000</td>\n",
       "      <td>1.950000</td>\n",
       "    </tr>\n",
       "  </tbody>\n",
       "</table>\n",
       "</div>"
      ],
      "text/plain": [
       "                                                    fpd5_flg    gender  \\\n",
       "social_status                                                            \n",
       "Financial Services                                  0.181070  0.600823   \n",
       "Professional Worker (Doctors, Engineers, Accoun...  0.195200  0.609600   \n",
       "Government Employee                                 0.255382  0.668297   \n",
       "Private Company Employee                            0.262315  0.548961   \n",
       "Other                                               0.273854  0.610905   \n",
       "BPO Professionals                                   0.275629  0.614209   \n",
       "Freelance                                           0.278378  0.570270   \n",
       "Business Owner                                      0.285891  0.721535   \n",
       "Self-Employed                                       0.301580  0.687133   \n",
       "Retail Worker                                       0.303430  0.725594   \n",
       "Unemployed                                          0.450000  0.750000   \n",
       "\n",
       "                                                    device_quaility_index  \\\n",
       "social_status                                                               \n",
       "Financial Services                                               2.748971   \n",
       "Professional Worker (Doctors, Engineers, Accoun...               2.662400   \n",
       "Government Employee                                              2.387476   \n",
       "Private Company Employee                                         2.423145   \n",
       "Other                                                            2.208798   \n",
       "BPO Professionals                                                2.649730   \n",
       "Freelance                                                        2.325676   \n",
       "Business Owner                                                   2.338490   \n",
       "Self-Employed                                                    2.141309   \n",
       "Retail Worker                                                    2.234828   \n",
       "Unemployed                                                       2.050000   \n",
       "\n",
       "                                                    behavioral_index  \\\n",
       "social_status                                                          \n",
       "Financial Services                                          4.032922   \n",
       "Professional Worker (Doctors, Engineers, Accoun...          3.974400   \n",
       "Government Employee                                         4.036204   \n",
       "Private Company Employee                                    4.043323   \n",
       "Other                                                       4.053903   \n",
       "BPO Professionals                                           4.023831   \n",
       "Freelance                                                   4.021622   \n",
       "Business Owner                                              4.077351   \n",
       "Self-Employed                                               4.102032   \n",
       "Retail Worker                                               4.094987   \n",
       "Unemployed                                                  4.350000   \n",
       "\n",
       "                                                          age        salary  \\\n",
       "social_status                                                                 \n",
       "Financial Services                                  32.432099  27162.604938   \n",
       "Professional Worker (Doctors, Engineers, Accoun...  34.912000  29358.152000   \n",
       "Government Employee                                 37.028376  21852.585127   \n",
       "Private Company Employee                            34.038279  22659.785757   \n",
       "Other                                               35.852540  21139.529740   \n",
       "BPO Professionals                                   30.925360  24415.154676   \n",
       "Freelance                                           36.678378  21518.297297   \n",
       "Business Owner                                      37.969678  31434.625619   \n",
       "Self-Employed                                       37.088939  20729.974266   \n",
       "Retail Worker                                       34.192612  17910.052770   \n",
       "Unemployed                                          35.600000  10580.250000   \n",
       "\n",
       "                                                    email_index  \n",
       "social_status                                                    \n",
       "Financial Services                                     1.333333  \n",
       "Professional Worker (Doctors, Engineers, Accoun...     1.318400  \n",
       "Government Employee                                    1.727984  \n",
       "Private Company Employee                               1.517507  \n",
       "Other                                                  1.791822  \n",
       "BPO Professionals                                      1.090378  \n",
       "Freelance                                              1.354054  \n",
       "Business Owner                                         1.748144  \n",
       "Self-Employed                                          1.688488  \n",
       "Retail Worker                                          1.810026  \n",
       "Unemployed                                             1.950000  "
      ]
     },
     "execution_count": 1231,
     "metadata": {},
     "output_type": "execute_result"
    }
   ],
   "source": [
    "data.groupby('social_status').mean().sort_values('fpd5_flg')\n",
    "# Тут зависимость очевидная и прямая. У людей из финансовой сферы дефолт происходит в среднем в два раза реже чем у людей из ретейла. Самый частый дефолт у безработных."
   ]
  },
  {
   "cell_type": "code",
   "execution_count": 1232,
   "id": "6f980a47",
   "metadata": {},
   "outputs": [
    {
     "data": {
      "image/png": "[encoded data removed]",
      "text/plain": [
       "<Figure size 432x288 with 1 Axes>"
      ]
     },
     "metadata": {},
     "output_type": "display_data"
    }
   ],
   "source": [
    "pd.crosstab(data.social_status,data.fpd5_flg).plot(kind='bar')\n",
    "plt.title('Зависимость дефолта от профессии')\n",
    "plt.xlabel('Профессия')\n",
    "plt.ylabel('Разделение по объему дефолтов')\n",
    "plt.savefig('purchase_fre_job')"
   ]
  },
  {
   "cell_type": "code",
   "execution_count": 1233,
   "id": "0acd470d",
   "metadata": {},
   "outputs": [
    {
     "data": {
      "text/html": [
       "<div>\n",
       "<style scoped>\n",
       "    .dataframe tbody tr th:only-of-type {\n",
       "        vertical-align: middle;\n",
       "    }\n",
       "\n",
       "    .dataframe tbody tr th {\n",
       "        vertical-align: top;\n",
       "    }\n",
       "\n",
       "    .dataframe thead th {\n",
       "        text-align: right;\n",
       "    }\n",
       "</style>\n",
       "<table border=\"1\" class=\"dataframe\">\n",
       "  <thead>\n",
       "    <tr style=\"text-align: right;\">\n",
       "      <th></th>\n",
       "      <th>fpd5_flg</th>\n",
       "      <th>gender</th>\n",
       "      <th>device_quaility_index</th>\n",
       "      <th>behavioral_index</th>\n",
       "      <th>age</th>\n",
       "      <th>salary</th>\n",
       "      <th>email_index</th>\n",
       "    </tr>\n",
       "    <tr>\n",
       "      <th>os</th>\n",
       "      <th></th>\n",
       "      <th></th>\n",
       "      <th></th>\n",
       "      <th></th>\n",
       "      <th></th>\n",
       "      <th></th>\n",
       "      <th></th>\n",
       "    </tr>\n",
       "  </thead>\n",
       "  <tbody>\n",
       "    <tr>\n",
       "      <th>macOS</th>\n",
       "      <td>0.150000</td>\n",
       "      <td>0.675000</td>\n",
       "      <td>3.425000</td>\n",
       "      <td>3.850000</td>\n",
       "      <td>30.675000</td>\n",
       "      <td>36425.000000</td>\n",
       "      <td>0.750000</td>\n",
       "    </tr>\n",
       "    <tr>\n",
       "      <th>iOS</th>\n",
       "      <td>0.233733</td>\n",
       "      <td>0.670665</td>\n",
       "      <td>3.317339</td>\n",
       "      <td>3.952381</td>\n",
       "      <td>32.531080</td>\n",
       "      <td>28653.550345</td>\n",
       "      <td>1.181389</td>\n",
       "    </tr>\n",
       "    <tr>\n",
       "      <th>Windows</th>\n",
       "      <td>0.262563</td>\n",
       "      <td>0.496231</td>\n",
       "      <td>3.026382</td>\n",
       "      <td>3.837940</td>\n",
       "      <td>34.991206</td>\n",
       "      <td>26741.712312</td>\n",
       "      <td>1.195980</td>\n",
       "    </tr>\n",
       "    <tr>\n",
       "      <th>Android</th>\n",
       "      <td>0.282752</td>\n",
       "      <td>0.624940</td>\n",
       "      <td>2.084281</td>\n",
       "      <td>4.094601</td>\n",
       "      <td>35.753177</td>\n",
       "      <td>21951.544577</td>\n",
       "      <td>1.661825</td>\n",
       "    </tr>\n",
       "    <tr>\n",
       "      <th>OS X</th>\n",
       "      <td>0.500000</td>\n",
       "      <td>0.000000</td>\n",
       "      <td>3.500000</td>\n",
       "      <td>4.500000</td>\n",
       "      <td>28.000000</td>\n",
       "      <td>32375.000000</td>\n",
       "      <td>0.250000</td>\n",
       "    </tr>\n",
       "    <tr>\n",
       "      <th>Linux</th>\n",
       "      <td>0.571429</td>\n",
       "      <td>0.428571</td>\n",
       "      <td>2.285714</td>\n",
       "      <td>4.000000</td>\n",
       "      <td>31.428571</td>\n",
       "      <td>20321.714286</td>\n",
       "      <td>0.571429</td>\n",
       "    </tr>\n",
       "    <tr>\n",
       "      <th>Chrome OS</th>\n",
       "      <td>0.600000</td>\n",
       "      <td>0.400000</td>\n",
       "      <td>2.600000</td>\n",
       "      <td>3.800000</td>\n",
       "      <td>31.800000</td>\n",
       "      <td>27800.000000</td>\n",
       "      <td>1.800000</td>\n",
       "    </tr>\n",
       "  </tbody>\n",
       "</table>\n",
       "</div>"
      ],
      "text/plain": [
       "           fpd5_flg    gender  device_quaility_index  behavioral_index  \\\n",
       "os                                                                       \n",
       "macOS      0.150000  0.675000               3.425000          3.850000   \n",
       "iOS        0.233733  0.670665               3.317339          3.952381   \n",
       "Windows    0.262563  0.496231               3.026382          3.837940   \n",
       "Android    0.282752  0.624940               2.084281          4.094601   \n",
       "OS X       0.500000  0.000000               3.500000          4.500000   \n",
       "Linux      0.571429  0.428571               2.285714          4.000000   \n",
       "Chrome OS  0.600000  0.400000               2.600000          3.800000   \n",
       "\n",
       "                 age        salary  email_index  \n",
       "os                                               \n",
       "macOS      30.675000  36425.000000     0.750000  \n",
       "iOS        32.531080  28653.550345     1.181389  \n",
       "Windows    34.991206  26741.712312     1.195980  \n",
       "Android    35.753177  21951.544577     1.661825  \n",
       "OS X       28.000000  32375.000000     0.250000  \n",
       "Linux      31.428571  20321.714286     0.571429  \n",
       "Chrome OS  31.800000  27800.000000     1.800000  "
      ]
     },
     "execution_count": 1233,
     "metadata": {},
     "output_type": "execute_result"
    }
   ],
   "source": [
    "data.groupby('os').mean().sort_values('fpd5_flg')\n",
    "#тут так же предположительно может быть зависимость, т.к. у Apple более дорогое оборудование, что является статусом высокого достатка."
   ]
  },
  {
   "cell_type": "code",
   "execution_count": 1234,
   "id": "a8863797",
   "metadata": {},
   "outputs": [
    {
     "data": {
      "image/png": "[encoded data removed]",
      "text/plain": [
       "<Figure size 432x288 with 1 Axes>"
      ]
     },
     "metadata": {},
     "output_type": "display_data"
    }
   ],
   "source": [
    "table=pd.crosstab(data.os,data.fpd5_flg)\n",
    "table.div(table.sum(1).astype(float), axis=0).plot(kind='bar', stacked=True)\n",
    "plt.title('Зависимость дефолта от ОС')\n",
    "plt.xlabel('Операционная система')\n",
    "plt.ylabel('Разделение по объему дефолтов')\n",
    "plt.savefig('mariral_vs_pur_stack')\n",
    "#однако можно наблюдать, что относительно все три операционные системы примерно равны по объему дефолта. Однако это так же может быть показателем статуса - у человека есть средства на мобильный телефон под управлением apple/android."
   ]
  },
  {
   "cell_type": "code",
   "execution_count": 1235,
   "id": "1158c200",
   "metadata": {},
   "outputs": [
    {
     "data": {
      "text/html": [
       "<div>\n",
       "<style scoped>\n",
       "    .dataframe tbody tr th:only-of-type {\n",
       "        vertical-align: middle;\n",
       "    }\n",
       "\n",
       "    .dataframe tbody tr th {\n",
       "        vertical-align: top;\n",
       "    }\n",
       "\n",
       "    .dataframe thead th {\n",
       "        text-align: right;\n",
       "    }\n",
       "</style>\n",
       "<table border=\"1\" class=\"dataframe\">\n",
       "  <thead>\n",
       "    <tr style=\"text-align: right;\">\n",
       "      <th></th>\n",
       "      <th>fpd5_flg</th>\n",
       "      <th>gender</th>\n",
       "      <th>device_quaility_index</th>\n",
       "      <th>behavioral_index</th>\n",
       "      <th>age</th>\n",
       "      <th>salary</th>\n",
       "      <th>email_index</th>\n",
       "    </tr>\n",
       "    <tr>\n",
       "      <th>disbursment_type</th>\n",
       "      <th></th>\n",
       "      <th></th>\n",
       "      <th></th>\n",
       "      <th></th>\n",
       "      <th></th>\n",
       "      <th></th>\n",
       "      <th></th>\n",
       "    </tr>\n",
       "  </thead>\n",
       "  <tbody>\n",
       "    <tr>\n",
       "      <th>Bank</th>\n",
       "      <td>0.217324</td>\n",
       "      <td>0.610032</td>\n",
       "      <td>2.535089</td>\n",
       "      <td>4.015370</td>\n",
       "      <td>34.109496</td>\n",
       "      <td>25788.395687</td>\n",
       "      <td>1.382342</td>\n",
       "    </tr>\n",
       "    <tr>\n",
       "      <th>E-wallet</th>\n",
       "      <td>0.352775</td>\n",
       "      <td>0.650573</td>\n",
       "      <td>2.158590</td>\n",
       "      <td>4.105022</td>\n",
       "      <td>36.465198</td>\n",
       "      <td>20310.305022</td>\n",
       "      <td>1.768282</td>\n",
       "    </tr>\n",
       "  </tbody>\n",
       "</table>\n",
       "</div>"
      ],
      "text/plain": [
       "                  fpd5_flg    gender  device_quaility_index  behavioral_index  \\\n",
       "disbursment_type                                                                \n",
       "Bank              0.217324  0.610032               2.535089          4.015370   \n",
       "E-wallet          0.352775  0.650573               2.158590          4.105022   \n",
       "\n",
       "                        age        salary  email_index  \n",
       "disbursment_type                                        \n",
       "Bank              34.109496  25788.395687     1.382342  \n",
       "E-wallet          36.465198  20310.305022     1.768282  "
      ]
     },
     "execution_count": 1235,
     "metadata": {},
     "output_type": "execute_result"
    }
   ],
   "source": [
    "data.groupby('disbursment_type').mean().sort_values('fpd5_flg')\n",
    "#Люди имеющие банковский счет, как правило, обладают большей финансовой грамотностью, т.к. процесс открытия и комисии в среднем в банка тяжелее и больше."
   ]
  },
  {
   "cell_type": "code",
   "execution_count": 1236,
   "id": "fc72aee5",
   "metadata": {},
   "outputs": [
    {
     "data": {
      "text/plain": [
       "Bank        0.596602\n",
       "E-wallet    0.403398\n",
       "Name: disbursment_type, dtype: float64"
      ]
     },
     "execution_count": 1236,
     "metadata": {},
     "output_type": "execute_result"
    }
   ],
   "source": [
    "data['disbursment_type'].value_counts(normalize=True)\n",
    "# и это при том, что Банки имеют доминирующую долю"
   ]
  },
  {
   "cell_type": "code",
   "execution_count": 1237,
   "id": "775abeee",
   "metadata": {},
   "outputs": [
    {
     "data": {
      "image/png": "[encoded data removed]",
      "text/plain": [
       "<Figure size 432x288 with 1 Axes>"
      ]
     },
     "metadata": {},
     "output_type": "display_data"
    }
   ],
   "source": [
    "pd.crosstab(data.disbursment_type,data.fpd5_flg).plot(kind='bar')\n",
    "plt.title('Зависимость дефолта от типа выплаты')\n",
    "plt.xlabel('Куда')\n",
    "plt.ylabel('Разделение по объему дефолтов')\n",
    "plt.savefig('purchase_fre_job')"
   ]
  },
  {
   "cell_type": "code",
   "execution_count": 1238,
   "id": "90432f66",
   "metadata": {},
   "outputs": [
    {
     "data": {
      "text/plain": [
       "GMAIL.COM         0.785826\n",
       "YAHOO.COM         0.172590\n",
       "YAHOO.COM.PH      0.011871\n",
       "DEPED.GOV.PH      0.006824\n",
       "ICLOUD.COM        0.005971\n",
       "YMAIL.COM         0.004478\n",
       "ROCKETMAIL.COM    0.002488\n",
       "HOTMAIL.COM       0.001493\n",
       "OUTLOOK.COM       0.001208\n",
       "EMAIL.COM         0.000569\n",
       "Name: email_domain_formatted, dtype: float64"
      ]
     },
     "execution_count": 1238,
     "metadata": {},
     "output_type": "execute_result"
    }
   ],
   "source": [
    "# Посмотрим распределение по доле тех или иных почтовых сервисов.\n",
    "data['email_domain_formatted'].value_counts(normalize=True).head(10)\n",
    "# GMAIL и YAHOO имеют доминирующий перевес. Не думаю, что в данном случае имеется какая-то корреляция между сервисом почты и дефолтом. Думаю данным показателем можно принебреч.\n"
   ]
  },
  {
   "cell_type": "code",
   "execution_count": 1239,
   "id": "e6e6b75d",
   "metadata": {},
   "outputs": [],
   "source": [
    "data = data.drop('email_domain_formatted', axis=1)"
   ]
  },
  {
   "cell_type": "code",
   "execution_count": 1240,
   "id": "cd0aa90a",
   "metadata": {},
   "outputs": [
    {
     "data": {
      "text/plain": [
       "array(['fpd5_flg', 'gender', 'device_quaility_index', 'behavioral_index',\n",
       "       'age', 'salary', 'email_index',\n",
       "       'type_of_document_Driver license ID', 'type_of_document_PRC',\n",
       "       'type_of_document_Passport', 'type_of_document_SSS',\n",
       "       'type_of_document_TIN', 'type_of_document_UMID',\n",
       "       'social_status_BPO Professionals', 'social_status_Business Owner',\n",
       "       'social_status_Financial Services', 'social_status_Freelance',\n",
       "       'social_status_Government Employee', 'social_status_Other',\n",
       "       'social_status_Private Company Employee',\n",
       "       'social_status_Professional Worker (Doctors, Engineers, Accountants, etc.)',\n",
       "       'social_status_Retail Worker', 'social_status_Self-Employed',\n",
       "       'social_status_Unemployed', 'disbursment_type_Bank',\n",
       "       'disbursment_type_E-wallet', 'os_Android', 'os_Chrome OS',\n",
       "       'os_Linux', 'os_OS X', 'os_Windows', 'os_iOS', 'os_macOS'],\n",
       "      dtype=object)"
      ]
     },
     "execution_count": 1240,
     "metadata": {},
     "output_type": "execute_result"
    }
   ],
   "source": [
    "# Теперь вещественные столбцы приобразуем в числовые\n",
    "data2=data\n",
    "cat_vars=['type_of_document','social_status','disbursment_type','os']\n",
    "for var in cat_vars:\n",
    "    cat_list='var'+'_'+var\n",
    "    cat_list = pd.get_dummies(data2[var], prefix=var)\n",
    "    data1=data2.join(cat_list)\n",
    "    data2=data1\n",
    "cat_vars=['type_of_document','social_status','disbursment_type','os']\n",
    "data_vars=data2.columns.values.tolist()\n",
    "to_keep=[i for i in data_vars if i not in cat_vars]\n",
    "data_final=data2[to_keep]\n",
    "data_final.columns.values"
   ]
  },
  {
   "cell_type": "code",
   "execution_count": 1143,
   "id": "6b477e76",
   "metadata": {},
   "outputs": [],
   "source": [
    "#Проверяем корреляцию между элементами\n",
    "CorrKoef = data_final.corr()\n",
    "list1=[]\n",
    "list2=[]\n",
    "for i in CorrKoef:\n",
    "    b=0\n",
    "    while b < len(CorrKoef[i]):\n",
    "        list1.append(i + ' x ' + CorrKoef[i].index[b])\n",
    "        list2.append(CorrKoef[i][b])\n",
    "        b+=1\n",
    "CorrKoef = pd.Series(list2, index =list1)"
   ]
  },
  {
   "cell_type": "code",
   "execution_count": 1144,
   "id": "56643460",
   "metadata": {},
   "outputs": [
    {
     "data": {
      "text/plain": [
       "fpd5_flg x fpd5_flg                                                                                                                                      1.0\n",
       "gender x gender                                                                                                                                          1.0\n",
       "device_quaility_index x device_quaility_index                                                                                                            1.0\n",
       "behavioral_index x behavioral_index                                                                                                                      1.0\n",
       "age x age                                                                                                                                                1.0\n",
       "salary x salary                                                                                                                                          1.0\n",
       "email_index x email_index                                                                                                                                1.0\n",
       "type_of_document_Driver license ID x type_of_document_Driver license ID                                                                                  1.0\n",
       "type_of_document_PRC x type_of_document_PRC                                                                                                              1.0\n",
       "type_of_document_Passport x type_of_document_Passport                                                                                                    1.0\n",
       "type_of_document_SSS x type_of_document_SSS                                                                                                              1.0\n",
       "type_of_document_TIN x type_of_document_TIN                                                                                                              1.0\n",
       "type_of_document_UMID x type_of_document_UMID                                                                                                            1.0\n",
       "social_status_BPO Professionals x social_status_BPO Professionals                                                                                        1.0\n",
       "social_status_Business Owner x social_status_Business Owner                                                                                              1.0\n",
       "social_status_Financial Services x social_status_Financial Services                                                                                      1.0\n",
       "social_status_Freelance x social_status_Freelance                                                                                                        1.0\n",
       "social_status_Government Employee x social_status_Government Employee                                                                                    1.0\n",
       "social_status_Other x social_status_Other                                                                                                                1.0\n",
       "social_status_Private Company Employee x social_status_Private Company Employee                                                                          1.0\n",
       "social_status_Professional Worker (Doctors, Engineers, Accountants, etc.) x social_status_Professional Worker (Doctors, Engineers, Accountants, etc.)    1.0\n",
       "social_status_Retail Worker x social_status_Retail Worker                                                                                                1.0\n",
       "social_status_Self-Employed x social_status_Self-Employed                                                                                                1.0\n",
       "social_status_Unemployed x social_status_Unemployed                                                                                                      1.0\n",
       "disbursment_type_Bank x disbursment_type_Bank                                                                                                            1.0\n",
       "disbursment_type_E-wallet x disbursment_type_E-wallet                                                                                                    1.0\n",
       "os_Android x os_Android                                                                                                                                  1.0\n",
       "os_Chrome OS x os_Chrome OS                                                                                                                              1.0\n",
       "os_Linux x os_Linux                                                                                                                                      1.0\n",
       "os_OS X x os_OS X                                                                                                                                        1.0\n",
       "os_Windows x os_Windows                                                                                                                                  1.0\n",
       "os_iOS x os_iOS                                                                                                                                          1.0\n",
       "os_macOS x os_macOS                                                                                                                                      1.0\n",
       "dtype: float64"
      ]
     },
     "execution_count": 1144,
     "metadata": {},
     "output_type": "execute_result"
    }
   ],
   "source": [
    "CorrKoef.loc[CorrKoef > 0.7]\n",
    "# сильная корреляция между элементами отсутствует"
   ]
  },
  {
   "cell_type": "code",
   "execution_count": 1145,
   "id": "e2b1a9df",
   "metadata": {},
   "outputs": [
    {
     "name": "stdout",
     "output_type": "stream",
     "text": [
      "Размер cбалансированного файла  14368\n",
      "Cбалансированое число без дефолта  7184\n",
      "Число с дефолтом  7184\n",
      "Доля без дефолта  0.5\n",
      "Доля с дефолтом  0.5\n"
     ]
    }
   ],
   "source": [
    "#Производим балансировку с помощью библиотеки SMOTE\n",
    "X = data_final.loc[:, data_final.columns != 'fpd5_flg']\n",
    "y = data_final.loc[:, data_final.columns == 'fpd5_flg']\n",
    "from imblearn.over_sampling import SMOTE\n",
    "os = SMOTE(random_state=150)\n",
    "X_train, X_test, y_train, y_test = train_test_split(X, y, test_size=0.3, random_state=0)\n",
    "columns = X_train.columns\n",
    "os_data_X, os_data_y = os.fit_resample(X_train, y_train)\n",
    "os_data_X = pd.DataFrame(data=os_data_X,columns=columns )\n",
    "os_data_y = pd.DataFrame(data=os_data_y,columns=['fpd5_flg'])\n",
    "# Мы можем проверить числа наших данных\n",
    "print(\"Размер cбалансированного файла \",len(os_data_X))\n",
    "print(\"Cбалансированое число без дефолта \",len(os_data_y[os_data_y['fpd5_flg']==0]))\n",
    "print(\"Число с дефолтом \",len(os_data_y[os_data_y['fpd5_flg']==1]))\n",
    "print(\"Доля без дефолта \",len(os_data_y[os_data_y['fpd5_flg']==0])/len(os_data_X))\n",
    "print(\"Доля с дефолтом \",len(os_data_y[os_data_y['fpd5_flg']==1])/len(os_data_X))\n",
    "# Теперь у нас есть идеально сбалансированные данные. Over-sampling был выполнен только для обучающих данных, поскольку в таком случае информация из тестовых данных не используется для создания синтетических сведений, и, следовательно, не произойдёт её утечки в обучающую модель."
   ]
  },
  {
   "cell_type": "code",
   "execution_count": 1146,
   "id": "24c827e2",
   "metadata": {},
   "outputs": [
    {
     "name": "stderr",
     "output_type": "stream",
     "text": [
      "C:\\Users\\nevge\\anaconda3\\lib\\site-packages\\sklearn\\linear_model\\_logistic.py:814: ConvergenceWarning: lbfgs failed to converge (status=1):\n",
      "STOP: TOTAL NO. of ITERATIONS REACHED LIMIT.\n",
      "\n",
      "Increase the number of iterations (max_iter) or scale the data as shown in:\n",
      "    https://scikit-learn.org/stable/modules/preprocessing.html\n",
      "Please also refer to the documentation for alternative solver options:\n",
      "    https://scikit-learn.org/stable/modules/linear_model.html#logistic-regression\n",
      "  n_iter_i = _check_optimize_result(\n",
      "C:\\Users\\nevge\\anaconda3\\lib\\site-packages\\sklearn\\linear_model\\_logistic.py:814: ConvergenceWarning: lbfgs failed to converge (status=1):\n",
      "STOP: TOTAL NO. of ITERATIONS REACHED LIMIT.\n",
      "\n",
      "Increase the number of iterations (max_iter) or scale the data as shown in:\n",
      "    https://scikit-learn.org/stable/modules/preprocessing.html\n",
      "Please also refer to the documentation for alternative solver options:\n",
      "    https://scikit-learn.org/stable/modules/linear_model.html#logistic-regression\n",
      "  n_iter_i = _check_optimize_result(\n",
      "C:\\Users\\nevge\\anaconda3\\lib\\site-packages\\sklearn\\linear_model\\_logistic.py:814: ConvergenceWarning: lbfgs failed to converge (status=1):\n",
      "STOP: TOTAL NO. of ITERATIONS REACHED LIMIT.\n",
      "\n",
      "Increase the number of iterations (max_iter) or scale the data as shown in:\n",
      "    https://scikit-learn.org/stable/modules/preprocessing.html\n",
      "Please also refer to the documentation for alternative solver options:\n",
      "    https://scikit-learn.org/stable/modules/linear_model.html#logistic-regression\n",
      "  n_iter_i = _check_optimize_result(\n",
      "C:\\Users\\nevge\\anaconda3\\lib\\site-packages\\sklearn\\linear_model\\_logistic.py:814: ConvergenceWarning: lbfgs failed to converge (status=1):\n",
      "STOP: TOTAL NO. of ITERATIONS REACHED LIMIT.\n",
      "\n",
      "Increase the number of iterations (max_iter) or scale the data as shown in:\n",
      "    https://scikit-learn.org/stable/modules/preprocessing.html\n",
      "Please also refer to the documentation for alternative solver options:\n",
      "    https://scikit-learn.org/stable/modules/linear_model.html#logistic-regression\n",
      "  n_iter_i = _check_optimize_result(\n",
      "C:\\Users\\nevge\\anaconda3\\lib\\site-packages\\sklearn\\linear_model\\_logistic.py:814: ConvergenceWarning: lbfgs failed to converge (status=1):\n",
      "STOP: TOTAL NO. of ITERATIONS REACHED LIMIT.\n",
      "\n",
      "Increase the number of iterations (max_iter) or scale the data as shown in:\n",
      "    https://scikit-learn.org/stable/modules/preprocessing.html\n",
      "Please also refer to the documentation for alternative solver options:\n",
      "    https://scikit-learn.org/stable/modules/linear_model.html#logistic-regression\n",
      "  n_iter_i = _check_optimize_result(\n",
      "C:\\Users\\nevge\\anaconda3\\lib\\site-packages\\sklearn\\linear_model\\_logistic.py:814: ConvergenceWarning: lbfgs failed to converge (status=1):\n",
      "STOP: TOTAL NO. of ITERATIONS REACHED LIMIT.\n",
      "\n",
      "Increase the number of iterations (max_iter) or scale the data as shown in:\n",
      "    https://scikit-learn.org/stable/modules/preprocessing.html\n",
      "Please also refer to the documentation for alternative solver options:\n",
      "    https://scikit-learn.org/stable/modules/linear_model.html#logistic-regression\n",
      "  n_iter_i = _check_optimize_result(\n",
      "C:\\Users\\nevge\\anaconda3\\lib\\site-packages\\sklearn\\linear_model\\_logistic.py:814: ConvergenceWarning: lbfgs failed to converge (status=1):\n",
      "STOP: TOTAL NO. of ITERATIONS REACHED LIMIT.\n",
      "\n",
      "Increase the number of iterations (max_iter) or scale the data as shown in:\n",
      "    https://scikit-learn.org/stable/modules/preprocessing.html\n",
      "Please also refer to the documentation for alternative solver options:\n",
      "    https://scikit-learn.org/stable/modules/linear_model.html#logistic-regression\n",
      "  n_iter_i = _check_optimize_result(\n"
     ]
    }
   ],
   "source": [
    "#Производим рекурсивное устранение признаков. Выбрано количество элементов (n_features_to_select), при которых скоринг модели наивысший.\n",
    "data_final_vars=data_final.columns.values.tolist()\n",
    "y=['fpd5_flg']\n",
    "X=[i for i in data_final_vars if i not in y]\n",
    "from sklearn.feature_selection import RFE\n",
    "from sklearn.linear_model import LogisticRegression\n",
    "logreg = LogisticRegression()\n",
    "rfe = RFE(logreg, n_features_to_select=21)\n",
    "rfe = rfe.fit(os_data_X, os_data_y.values.ravel())\n",
    "s = pd.Series(rfe.support_, index = X)\n",
    "cols = s[s == True].index.tolist()\n",
    "X=os_data_X[cols]\n",
    "y=os_data_y['fpd5_flg']"
   ]
  },
  {
   "cell_type": "code",
   "execution_count": 1241,
   "id": "fc19bd8d",
   "metadata": {},
   "outputs": [
    {
     "data": {
      "text/plain": [
       "['type_of_document_Driver license ID',\n",
       " 'type_of_document_PRC',\n",
       " 'type_of_document_Passport',\n",
       " 'type_of_document_SSS',\n",
       " 'type_of_document_TIN',\n",
       " 'type_of_document_UMID',\n",
       " 'social_status_BPO Professionals',\n",
       " 'social_status_Business Owner',\n",
       " 'social_status_Financial Services',\n",
       " 'social_status_Freelance',\n",
       " 'social_status_Government Employee',\n",
       " 'social_status_Other',\n",
       " 'social_status_Private Company Employee',\n",
       " 'social_status_Professional Worker (Doctors, Engineers, Accountants, etc.)',\n",
       " 'social_status_Retail Worker',\n",
       " 'social_status_Self-Employed',\n",
       " 'social_status_Unemployed',\n",
       " 'disbursment_type_Bank',\n",
       " 'disbursment_type_E-wallet',\n",
       " 'os_iOS',\n",
       " 'os_macOS']"
      ]
     },
     "execution_count": 1241,
     "metadata": {},
     "output_type": "execute_result"
    }
   ],
   "source": [
    "cols"
   ]
  },
  {
   "cell_type": "code",
   "execution_count": 1147,
   "id": "eaeaa08f",
   "metadata": {},
   "outputs": [
    {
     "name": "stdout",
     "output_type": "stream",
     "text": [
      "Optimization terminated successfully.\n",
      "         Current function value: 0.596062\n",
      "         Iterations 6\n",
      "                                                      Results: Logit\n",
      "==========================================================================================================================\n",
      "Model:                                 Logit                               Pseudo R-squared:                    0.140     \n",
      "Dependent Variable:                    fpd5_flg                            AIC:                                 17170.4354\n",
      "Date:                                  2022-02-24 19:45                    BIC:                                 17329.4633\n",
      "No. Observations:                      14368                               Log-Likelihood:                      -8564.2   \n",
      "Df Model:                              20                                  LL-Null:                             -9959.1   \n",
      "Df Residuals:                          14347                               LLR p-value:                         0.0000    \n",
      "Converged:                             1.0000                              Scale:                               1.0000    \n",
      "No. Iterations:                        6.0000                                                                             \n",
      "--------------------------------------------------------------------------------------------------------------------------\n",
      "                                                                           Coef.  Std.Err.    z     P>|z|   [0.025  0.975]\n",
      "--------------------------------------------------------------------------------------------------------------------------\n",
      "type_of_document_Driver license ID                                        -0.8385   0.0709 -11.8295 0.0000 -0.9774 -0.6995\n",
      "type_of_document_PRC                                                      -1.2762   0.1611  -7.9204 0.0000 -1.5920 -0.9604\n",
      "type_of_document_Passport                                                 -0.9650   0.0831 -11.6175 0.0000 -1.1278 -0.8022\n",
      "type_of_document_SSS                                                      -1.2517   0.0908 -13.7878 0.0000 -1.4296 -1.0738\n",
      "type_of_document_TIN                                                      -0.7058   0.0696 -10.1457 0.0000 -0.8422 -0.5695\n",
      "type_of_document_UMID                                                     -0.7624   0.0631 -12.0766 0.0000 -0.8861 -0.6387\n",
      "social_status_BPO Professionals                                           -1.3027   0.0770 -16.9287 0.0000 -1.4535 -1.1519\n",
      "social_status_Business Owner                                              -1.6716   0.0844 -19.7985 0.0000 -1.8370 -1.5061\n",
      "social_status_Financial Services                                          -2.2029   0.1900 -11.5941 0.0000 -2.5753 -1.8305\n",
      "social_status_Freelance                                                   -1.9310   0.1123 -17.1940 0.0000 -2.1512 -1.7109\n",
      "social_status_Government Employee                                         -2.0582   0.1051 -19.5921 0.0000 -2.2641 -1.8523\n",
      "social_status_Other                                                       -1.7757   0.0845 -21.0040 0.0000 -1.9414 -1.6100\n",
      "social_status_Private Company Employee                                    -1.5588   0.0719 -21.6746 0.0000 -1.6998 -1.4178\n",
      "social_status_Professional Worker (Doctors, Engineers, Accountants, etc.) -2.2635   0.1394 -16.2360 0.0000 -2.5367 -1.9902\n",
      "social_status_Retail Worker                                               -1.8256   0.1438 -12.6964 0.0000 -2.1075 -1.5438\n",
      "social_status_Self-Employed                                               -1.6340   0.0775 -21.0709 0.0000 -1.7860 -1.4820\n",
      "social_status_Unemployed                                                  -1.7045   0.5830  -2.9235 0.0035 -2.8473 -0.5618\n",
      "disbursment_type_Bank                                                      1.6782   0.0665  25.2335 0.0000  1.5479  1.8086\n",
      "disbursment_type_E-wallet                                                  2.3124   0.0672  34.4101 0.0000  2.1807  2.4441\n",
      "os_iOS                                                                    -0.2571   0.0537  -4.7851 0.0000 -0.3624 -0.1518\n",
      "os_macOS                                                                  -1.2676   0.5397  -2.3487 0.0188 -2.3253 -0.2098\n",
      "==========================================================================================================================\n",
      "\n"
     ]
    }
   ],
   "source": [
    "import statsmodels.api as sm\n",
    "logit_model=sm.Logit(y,X)\n",
    "result=logit_model.fit()\n",
    "print(result.summary2())\n",
    "# p-значения для большинства переменных меньше 0.05"
   ]
  },
  {
   "cell_type": "code",
   "execution_count": 1148,
   "id": "6a7745dc",
   "metadata": {},
   "outputs": [
    {
     "name": "stdout",
     "output_type": "stream",
     "text": [
      "Точность классификатора логистической регрессии для тестового набора: 0.79\n"
     ]
    }
   ],
   "source": [
    "from sklearn.linear_model import LogisticRegression\n",
    "from sklearn import metrics\n",
    "X_train, X_test, y_train, y_test = train_test_split(X, y, test_size=0.3, random_state=0)\n",
    "logreg = LogisticRegression(C=1.0, class_weight=None, dual=False, fit_intercept=True, intercept_scaling=1, max_iter=100, multi_class='ovr', n_jobs=1, penalty='l2', random_state=None, solver='liblinear', tol=0.0001, verbose=0, warm_start=False)\n",
    "logreg.fit(X_train, y_train)\n",
    "y_pred = logreg.predict(X_test)\n",
    "\n",
    "print('Точность классификатора логистической регрессии для тестового набора: {:.2f}'.format(logreg.score(X_test, y_test)))"
   ]
  },
  {
   "cell_type": "code",
   "execution_count": 1149,
   "id": "bcf336f5",
   "metadata": {},
   "outputs": [
    {
     "data": {
      "image/png": "[encoded data removed]",
      "text/plain": [
       "<Figure size 432x288 with 1 Axes>"
      ]
     },
     "metadata": {},
     "output_type": "display_data"
    }
   ],
   "source": [
    "#Рассчет ROC для тестового набора\n",
    "from sklearn.metrics import roc_auc_score\n",
    "from sklearn.metrics import roc_curve\n",
    "logit_roc_auc = roc_auc_score(y_test, logreg.predict(X_test))\n",
    "fpr, tpr, thresholds = roc_curve(y_test, logreg.predict_proba(X_test)[:,1])\n",
    "plt.figure()\n",
    "plt.plot(fpr, tpr, label='Logistic Regression (area = %0.2f)' % logit_roc_auc)\n",
    "plt.plot([0, 1], [0, 1],'r--')\n",
    "plt.xlim([0.0, 1.0])\n",
    "plt.ylim([0.0, 1.05])\n",
    "plt.xlabel('False Positive Rate')\n",
    "plt.ylabel('True Positive Rate')\n",
    "plt.title('Receiver operating characteristic')\n",
    "plt.legend(loc=\"lower right\")\n",
    "plt.savefig('Log_ROC')\n",
    "plt.show()"
   ]
  },
  {
   "cell_type": "code",
   "execution_count": 1150,
   "id": "9e9aaef7",
   "metadata": {},
   "outputs": [],
   "source": [
    "data_final_new=X_train\n",
    "list2=[]\n",
    "for i in logreg.predict_proba(data_final_new):\n",
    "    list2.append(i[1])\n",
    "train=pd.Series(list2, index=data_final_new.index)\n",
    "itog = X_train\n",
    "itog['prediction'] = train"
   ]
  },
  {
   "cell_type": "code",
   "execution_count": 1151,
   "id": "95ab860a",
   "metadata": {},
   "outputs": [
    {
     "data": {
      "text/plain": [
       "<AxesSubplot:>"
      ]
     },
     "execution_count": 1151,
     "metadata": {},
     "output_type": "execute_result"
    },
    {
     "data": {
      "image/png": "[encoded data removed]",
      "text/plain": [
       "<Figure size 432x288 with 1 Axes>"
      ]
     },
     "metadata": {},
     "output_type": "display_data"
    }
   ],
   "source": [
    "# Распределение гистограммы для тестового набора\n",
    "itog['prediction'].hist(bins = 100)"
   ]
  },
  {
   "cell_type": "code",
   "execution_count": 1243,
   "id": "e7302339",
   "metadata": {},
   "outputs": [],
   "source": [
    "# Создание  итогового набора\n",
    "data_final_new=data_final[cols]\n",
    "list1=[]\n",
    "for i in logreg.predict_proba(data_final_new):\n",
    "    list1.append(i[1])\n",
    "train=pd.Series(list1, index=data_final_new.index)\n",
    "itog = data\n",
    "itog['prediction'] = train\n",
    "itog.to_excel('output.xlsx')"
   ]
  },
  {
   "cell_type": "code",
   "execution_count": 1242,
   "id": "609d3a2e",
   "metadata": {},
   "outputs": [
    {
     "data": {
      "text/plain": [
       "<AxesSubplot:>"
      ]
     },
     "execution_count": 1242,
     "metadata": {},
     "output_type": "execute_result"
    },
    {
     "data": {
      "image/png": "[encoded data removed]",
      "text/plain": [
       "<Figure size 432x288 with 1 Axes>"
      ]
     },
     "metadata": {},
     "output_type": "display_data"
    }
   ],
   "source": [
    "# Распределение для итогового набора\n",
    "itog['prediction'].hist(bins = 100)"
   ]
  }
 ],
 "metadata": {
  "kernelspec": {
   "display_name": "Python 3 (ipykernel)",
   "language": "python",
   "name": "python3"
  },
  "language_info": {
   "codemirror_mode": {
    "name": "ipython",
    "version": 3
   },
   "file_extension": ".py",
   "mimetype": "text/x-python",
   "name": "python",
   "nbconvert_exporter": "python",
   "pygments_lexer": "ipython3",
   "version": "3.9.7"
  },
  "toc": {
   "base_numbering": 1,
   "nav_menu": {},
   "number_sections": true,
   "sideBar": true,
   "skip_h1_title": false,
   "title_cell": "Table of Contents",
   "title_sidebar": "Contents",
   "toc_cell": true,
   "toc_position": {},
   "toc_section_display": true,
   "toc_window_display": false
  }
 },
 "nbformat": 4,
 "nbformat_minor": 5
}
